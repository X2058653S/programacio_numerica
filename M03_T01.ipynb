{
 "cells": [
  {
   "cell_type": "code",
   "execution_count": 148,
   "id": "b21f69b8",
   "metadata": {},
   "outputs": [],
   "source": [
    "from numpy import random\n",
    "import numpy as np"
   ]
  },
  {
   "cell_type": "markdown",
   "id": "325fd2a3",
   "metadata": {},
   "source": [
    "## Exercici 1\n",
    "Creamos una funció que donat un Array d’una dimensió, fa un resum estadístic bàsic de les dades. Si detecta que l’array té més d’una dimensió, ha de mostrar un missatge d’error."
   ]
  },
  {
   "cell_type": "markdown",
   "id": "a7b5c187",
   "metadata": {},
   "source": [
    "Creamos la función:"
   ]
  },
  {
   "cell_type": "code",
   "execution_count": 279,
   "id": "6cdd8e02",
   "metadata": {},
   "outputs": [],
   "source": [
    "def resum(x):\n",
    "    if x.ndim>1:\n",
    "        print('error:el array tiene más de una dimensión')\n",
    "    else:\n",
    "        a=round(np.mean(x),2)\n",
    "        print('media aritmetica',a)\n",
    "        b=np.round(abs(np.subtract(x,a)),2)\n",
    "        print('desviación respecto a la media aritmetica',b)\n",
    "        c=round(np.var(x),2)\n",
    "        print('varianza',c)\n",
    "        d=round(np.std(x),2)\n",
    "        print('desviación típica',d)\n",
    "        values,counts = np.unique(x, return_counts=True)\n",
    "        e=values[counts == np.max(counts)]\n",
    "        print('moda',e)\n",
    "        f=round(np.median(x),2)\n",
    "        print('mediana',f)\n",
    "        \n",
    "    return\n"
   ]
  },
  {
   "cell_type": "markdown",
   "id": "6e4d2b90",
   "metadata": {},
   "source": [
    "Considerando un array random arr:"
   ]
  },
  {
   "cell_type": "code",
   "execution_count": 280,
   "id": "b3018584",
   "metadata": {},
   "outputs": [
    {
     "name": "stdout",
     "output_type": "stream",
     "text": [
      "[11 18 13 13 13 15 10]\n"
     ]
    }
   ],
   "source": [
    "arr=random.randint(20,size=(7))\n",
    "print(arr)"
   ]
  },
  {
   "cell_type": "markdown",
   "id": "0317a129",
   "metadata": {},
   "source": [
    "Llamamos la función para el array arr:"
   ]
  },
  {
   "cell_type": "code",
   "execution_count": 281,
   "id": "f3b9ea8e",
   "metadata": {},
   "outputs": [
    {
     "name": "stdout",
     "output_type": "stream",
     "text": [
      "media aritmetica 13.29\n",
      "desviación respecto a la media aritmetica [2.29 4.71 0.29 0.29 0.29 1.71 3.29]\n",
      "varianza 5.92\n",
      "desviación típica 2.43\n",
      "moda [13]\n",
      "mediana 13.0\n"
     ]
    }
   ],
   "source": [
    "resum(arr)"
   ]
  },
  {
   "cell_type": "markdown",
   "id": "7eb829b2",
   "metadata": {},
   "source": [
    "## Exercici 2\n",
    "\n",
    "Crea una funció que et generi un quadrat NxN de nombres aleatoris entre el 0 i el 100."
   ]
  },
  {
   "cell_type": "markdown",
   "id": "f52ff4e2",
   "metadata": {},
   "source": [
    "Creamos la función:"
   ]
  },
  {
   "cell_type": "code",
   "execution_count": 273,
   "id": "6d3ac93a",
   "metadata": {},
   "outputs": [],
   "source": [
    "def my_function(n):\n",
    "    return random.randint(100,size=(n,n))\n"
   ]
  },
  {
   "cell_type": "markdown",
   "id": "472f7c86",
   "metadata": {},
   "source": [
    "Llamamos la función para crear el quadrat arr1:"
   ]
  },
  {
   "cell_type": "code",
   "execution_count": 274,
   "id": "1d4b51f6",
   "metadata": {},
   "outputs": [
    {
     "name": "stdout",
     "output_type": "stream",
     "text": [
      "[[98 46 98 29 36 24]\n",
      " [96 48  5 20 89 96]\n",
      " [58 15 72 36 65 53]\n",
      " [86 31  4 48 61 81]\n",
      " [54 25 10 64 74 88]\n",
      " [46  5  2 34 41 70]]\n"
     ]
    }
   ],
   "source": [
    "arr1=my_function(6)\n",
    "print(arr1)"
   ]
  },
  {
   "cell_type": "markdown",
   "id": "c55adff3",
   "metadata": {},
   "source": [
    "## Exercici 3\n",
    "\n",
    "Crea una funció que donada una taula de dues dimensions (NxM), et calculi els totals per fila i els totals per columna.\n",
    "\n"
   ]
  },
  {
   "cell_type": "markdown",
   "id": "bfa60dd4",
   "metadata": {},
   "source": [
    "Creamos la función :"
   ]
  },
  {
   "cell_type": "code",
   "execution_count": 282,
   "id": "49771b77",
   "metadata": {},
   "outputs": [],
   "source": [
    "def my_function(x):\n",
    "    \n",
    "    a=np.sum(x,axis=1)\n",
    "    print('la suma de las filas es',a)\n",
    "    \n",
    "    b=np.sum(x,axis=0)\n",
    "    print('la suma de las columnas es',b)\n",
    "    return \n"
   ]
  },
  {
   "cell_type": "markdown",
   "id": "4b21aefb",
   "metadata": {},
   "source": [
    "Considerando un array random de 2 dimensiones:"
   ]
  },
  {
   "cell_type": "code",
   "execution_count": 283,
   "id": "7ae16a6c",
   "metadata": {
    "scrolled": true
   },
   "outputs": [
    {
     "name": "stdout",
     "output_type": "stream",
     "text": [
      "entra 1ª dimensión: 5\n",
      "entra 2ª dimensión: 4\n",
      "[[0.66755188 0.51116143 0.21758415 0.34303293]\n",
      " [0.32868017 0.33258692 0.09668227 0.28766912]\n",
      " [0.44889377 0.21806202 0.26431255 0.42057238]\n",
      " [0.56507545 0.11816053 0.01879904 0.01032742]\n",
      " [0.71025846 0.1988442  0.83008941 0.50391512]]\n"
     ]
    }
   ],
   "source": [
    "m=int(input('entra 1ª dimensión: '))\n",
    "n=int(input('entra 2ª dimensión: '))\n",
    "arr2=random.rand(m,n)\n",
    "print(arr2)"
   ]
  },
  {
   "cell_type": "markdown",
   "id": "02e100ed",
   "metadata": {},
   "source": [
    "Llamamos la función para el array arr2:"
   ]
  },
  {
   "cell_type": "code",
   "execution_count": 284,
   "id": "4c6e8448",
   "metadata": {},
   "outputs": [
    {
     "name": "stdout",
     "output_type": "stream",
     "text": [
      "la suma de las filas es [1.73933039 1.04561848 1.35184071 0.71236243 2.24310719]\n",
      "la suma de las columnas es [2.72045972 1.37881509 1.42746741 1.56551697]\n"
     ]
    }
   ],
   "source": [
    "my_function(arr2)"
   ]
  },
  {
   "cell_type": "markdown",
   "id": "17d22907",
   "metadata": {},
   "source": [
    "## Exercici 4\n",
    "\n",
    "Implementa manualment una funció que calculi el coeficient de correlació. Informa-te'n sobre els seus usos i interpretació.\n",
    "\n"
   ]
  },
  {
   "cell_type": "markdown",
   "id": "7b627b34",
   "metadata": {},
   "source": [
    "El objetivo es calcular el coeficiente de correlación de dos variables, representadas abajo por dos arrays random de una dimensión cada uno, Alfa y Beta:"
   ]
  },
  {
   "cell_type": "code",
   "execution_count": 231,
   "id": "0a2e00e2",
   "metadata": {},
   "outputs": [
    {
     "name": "stdout",
     "output_type": "stream",
     "text": [
      "[7 4 7 4 8 0]\n",
      "[6 8 7 8 4 3]\n"
     ]
    }
   ],
   "source": [
    "alfa=random.randint(10,size=(6))\n",
    "beta=random.randint(10,size=(6))\n",
    "print(alfa)\n",
    "print(beta)\n"
   ]
  },
  {
   "cell_type": "markdown",
   "id": "514206dd",
   "metadata": {},
   "source": [
    "Creamos la función:"
   ]
  },
  {
   "cell_type": "code",
   "execution_count": 268,
   "id": "72c3e973",
   "metadata": {},
   "outputs": [],
   "source": [
    "def coef_correlacion(a,b):   \n",
    "    \n",
    "#Calculamos la media aritmética de cada variable    \n",
    "    media_a=np.mean(a)\n",
    "    media_b=np.mean(b)\n",
    " \n",
    "   \n",
    "#Calculamos la covarianza\n",
    "    lista_a_b= [(i-media_a)*(j-media_b) for i,j in zip(a,b)]\n",
    "    cov=(np.sum(lista_a_b)/len(lista_a_b))\n",
    "\n",
    "#Calculamos la varianza de cada variable    \n",
    "    lista_a=[(i-media_a)*(i-media_a) for i in a]\n",
    "    lista_b=[(i-media_b)*(i-media_b) for i in b]\n",
    "\n",
    "    var_a=np.sum(lista_a)/len(lista_a)\n",
    "    var_b=np.sum(lista_b)/len(lista_b)\n",
    "    \n",
    "#Calculamos el coeficiente de correlación\n",
    "    coef=round(cov/(np.sqrt(var_a*var_b)),5)\n",
    "    print('el coeficiente de correlación es',coef)\n",
    "\n",
    "    return\n"
   ]
  },
  {
   "cell_type": "markdown",
   "id": "cf83b2e2",
   "metadata": {},
   "source": [
    "LLamamos la función para las variables Alfa y Beta:"
   ]
  },
  {
   "cell_type": "code",
   "execution_count": 269,
   "id": "b7f3c06c",
   "metadata": {},
   "outputs": [
    {
     "name": "stdout",
     "output_type": "stream",
     "text": [
      "el coeficiente de correlación es 0.22499\n"
     ]
    }
   ],
   "source": [
    "coef_correlacion(alfa,beta)"
   ]
  },
  {
   "cell_type": "markdown",
   "id": "4b3b04c3",
   "metadata": {},
   "source": [
    "Comprobamos el resultado con la función de Numpy:"
   ]
  },
  {
   "cell_type": "code",
   "execution_count": 245,
   "id": "f9814a75",
   "metadata": {},
   "outputs": [
    {
     "name": "stdout",
     "output_type": "stream",
     "text": [
      "[[1.         0.22498852]\n",
      " [0.22498852 1.        ]]\n"
     ]
    }
   ],
   "source": [
    "x=np.corrcoef(alfa,beta)\n",
    "print(x)"
   ]
  }
 ],
 "metadata": {
  "kernelspec": {
   "display_name": "Python 3 (ipykernel)",
   "language": "python",
   "name": "python3"
  },
  "language_info": {
   "codemirror_mode": {
    "name": "ipython",
    "version": 3
   },
   "file_extension": ".py",
   "mimetype": "text/x-python",
   "name": "python",
   "nbconvert_exporter": "python",
   "pygments_lexer": "ipython3",
   "version": "3.9.13"
  }
 },
 "nbformat": 4,
 "nbformat_minor": 5
}
